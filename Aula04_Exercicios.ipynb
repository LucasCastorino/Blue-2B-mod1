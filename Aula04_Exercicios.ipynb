{
  "nbformat": 4,
  "nbformat_minor": 0,
  "metadata": {
    "colab": {
      "name": "Aula04_Exercicios.ipynb",
      "provenance": [],
      "collapsed_sections": [],
      "include_colab_link": true
    },
    "kernelspec": {
      "name": "python3",
      "display_name": "Python 3"
    },
    "language_info": {
      "name": "python"
    }
  },
  "cells": [
    {
      "cell_type": "markdown",
      "metadata": {
        "id": "view-in-github",
        "colab_type": "text"
      },
      "source": [
        "<a href=\"https://colab.research.google.com/github/LucasCastorino/Blue-2B-mod1/blob/main/Aula04_Exercicios.ipynb\" target=\"_parent\"><img src=\"https://colab.research.google.com/assets/colab-badge.svg\" alt=\"Open In Colab\"/></a>"
      ]
    },
    {
      "cell_type": "markdown",
      "metadata": {
        "id": "DptQTkwqN7v9"
      },
      "source": [
        "# Exercícios de Aquecimento\n",
        "\n",
        "## Exercício 01\n",
        "Elabore um programa que imprima na tela a seguinte frase `Olá Mundo! Esse é o meu primeiro programa`"
      ]
    },
    {
      "cell_type": "code",
      "metadata": {
        "id": "fu-Hvxg7OT64"
      },
      "source": [
        "print('Olá Mundo! Esse é o meu primeiro programa')"
      ],
      "execution_count": null,
      "outputs": []
    },
    {
      "cell_type": "markdown",
      "metadata": {
        "id": "HYnPLbl2OfuE"
      },
      "source": [
        "## Exercício 02\n",
        "Elabore um programa que escreve seu nome completo na primeira linha, seu endereço na segunda e o CEP e telefone na terceira.  \n",
        "\n",
        "**Exemplo:**\n",
        "```\n",
        "Nome: Bruno Fabri\n",
        "Endereço: Rua ABC\n",
        "CEP: 002220-010\n",
        "```"
      ]
    },
    {
      "cell_type": "code",
      "metadata": {
        "id": "sUrmuOzbO5Cd"
      },
      "source": [
        "print('Nome: Lucas Castorino Silva\\nEndereço: Rua Geraldo Theodoro\\nCEP: 17027641')"
      ],
      "execution_count": null,
      "outputs": []
    },
    {
      "cell_type": "markdown",
      "metadata": {
        "id": "5XVY0cvwP1WX"
      },
      "source": [
        "## Exercício 03\n",
        "Elabore um programa que recebe o nome de uma pessoa do terminal e mostra a seguinte mensagem: `Olá {nome}! Seja bem vindo ao fantástico mundo da programação`"
      ]
    },
    {
      "cell_type": "code",
      "metadata": {
        "id": "VDfwe6OSQM0M"
      },
      "source": [
        "nome = input('Digite seu nome:')\n",
        "print('Olá {}! Seja bem vindo ao fantástico mundo da programação'.format(nome))"
      ],
      "execution_count": null,
      "outputs": []
    },
    {
      "cell_type": "markdown",
      "metadata": {
        "id": "1Nb29agVQc3k"
      },
      "source": [
        "## Exercício 04\n",
        "Elabore um programa que recebe dois valores inteiros e mostra a soma desses valores\n",
        "\n",
        "**Exemplo:**\n",
        "\n",
        "```\n",
        "Primeiro Valor = 2\n",
        "Segundo Valor = 3\n",
        "Soma = 5\n",
        "```"
      ]
    },
    {
      "cell_type": "code",
      "metadata": {
        "id": "a6_BwVwRROmH"
      },
      "source": [
        "pv = int(input('Digite o primeiro valor:'))\n",
        "sv = int(input('Digite o segundo valor'))\n",
        "soma = pv + sv \n",
        "print('Soma = {}'.format(soma))"
      ],
      "execution_count": null,
      "outputs": []
    },
    {
      "cell_type": "markdown",
      "metadata": {
        "id": "4HQxR3FTTbSr"
      },
      "source": [
        "## Exercício 05\n",
        "Elabore um programa que recebe dois valores inteiros e mostra se o primeiro valor é maior ou igual ao segundo valor\n",
        "\n",
        "**Exemplo:**\n",
        "```\n",
        "Primeiro Valor = 3\n",
        "Segundo Valor = 2\n",
        "Resultado = True\n",
        "```"
      ]
    },
    {
      "cell_type": "code",
      "metadata": {
        "id": "OXISQASdTeSW"
      },
      "source": [
        "pv = int(input('Digite o primeiro valor: '))\n",
        "sv = int(input('Digite o segundo valor: '))\n",
        "print('Resultado =',pv >= sv)"
      ],
      "execution_count": null,
      "outputs": []
    },
    {
      "cell_type": "markdown",
      "metadata": {
        "id": "Gn8rHPn3UCnc"
      },
      "source": [
        "## Exercício 06\n",
        "Elabore um programa que recebe o seu nome, endereço e hobby e mostra cada uma das informações da seguinte forma:\n",
        "- Nome -> Letra maiúscula\n",
        "- Endereço -> Letra minúscula\n",
        "- Hobby -> Primeira letra maiúscula\n",
        "\n",
        "**Exemplo Entrada:**\n",
        "```\n",
        "Nome: bruno fabri\n",
        "Endereço: Rua ABC\n",
        "Hobby: jogar cs\n",
        "```\n",
        "\n",
        "**Exemplo Saída:**\n",
        "```\n",
        "Nome: BRUNO FABRI\n",
        "Endereço: rua abc\n",
        "Hobby: Jogar cs\n",
        "```"
      ]
    },
    {
      "cell_type": "code",
      "metadata": {
        "id": "ZIj-PGVZVVP6"
      },
      "source": [
        "nome = input('Digite seu nome ')\n",
        "end = input('Digite o endereço ')\n",
        "hb = input('Digite o Hobby ')\n",
        "print('Nome:',nome.upper())\n",
        "print('Endereço:',end.lower())\n",
        "print('Hobby:',hb.capitalize())"
      ],
      "execution_count": null,
      "outputs": []
    },
    {
      "cell_type": "markdown",
      "metadata": {
        "id": "wlvmEAPQNrcL"
      },
      "source": [
        "# Mini Projetos"
      ]
    },
    {
      "cell_type": "markdown",
      "metadata": {
        "id": "W8zwueNBKh4B"
      },
      "source": [
        "## Mini Projeto 01 - Conversor de Moeda\n",
        "Vamos construir um programa que irá converter moedas do real para o dólar e do dólar para o real. Vamos considerar que `$ 1,00 = R$ 5,75`\n",
        "\n",
        "### Parte 1\n",
        "Faça o conversor de moeda receber o valor em real e mostrar o valor convertido para dólar no formato `$ XXXX.XX`\n",
        "\n",
        "**Exemplo:**\n",
        "\n",
        "```\n",
        "Valor em R$ = 1000\n",
        "Valor em $ = $ 173.91\n",
        "```\n",
        "\n",
        "### Parte 2\n",
        "Altere o conversor de moedas para receber o valor em dólar, converter para real e mostrar o resultado no formato `R$ XXXX.XX`\n",
        "\n",
        "**Exemplo:**\n",
        "```\n",
        "Valor em $ = 1000\n",
        "Valor em R$ = R$ 5750.00\n",
        "```"
      ]
    },
    {
      "cell_type": "code",
      "metadata": {
        "id": "GBCsbQY1G3F9"
      },
      "source": [
        "# Parte 1\n",
        "print('Real para dólar')\n",
        "r = float(input('Digite o valor de Reais'))\n",
        "c = r*5.75\n",
        "print('R${:.2f} equivale a $ {:.2f}'.format(r,c))"
      ],
      "execution_count": null,
      "outputs": []
    },
    {
      "cell_type": "code",
      "metadata": {
        "id": "md9MwHLGG22L"
      },
      "source": [
        "# Parte 2\n",
        "print('Dólar para real')\n",
        "d = float(input('Digite o valor de dólares'))\n",
        "c = d/5.75\n",
        "print('${:.2f} equivale a R$ {:.2f}'.format(d,c))"
      ],
      "execution_count": null,
      "outputs": []
    },
    {
      "cell_type": "code",
      "metadata": {
        "id": "mRQ9fpIgMp5Z"
      },
      "source": [
        "# Fiz as 2 partes simultaneas de forma que o usuário escolhe a conversão a ser feita\n",
        "print('Conversor Real X Dolar\\nSelecione a conversão:')\n",
        "a = int(input(\"Real para Dólar, digite 1\\nDólar para Real, digite 2\\n\"))\n",
        "if a == 1:\n",
        "  print('Real para dólar')\n",
        "  r = float(input('Digite o valor de Reais'))\n",
        "  c = r*5.75\n",
        "  print('R${:.2f} equivale a ${:.2f}'.format(r,c))\n",
        "elif a == 2:\n",
        "  print('Dólar para real')\n",
        "  d = float(input('Digite o valor de dólares'))\n",
        "  c = d/5.75\n",
        "  print('${:.2f} equivale a R${:.2f}'.format(d,c))\n",
        "\n",
        "\n"
      ],
      "execution_count": null,
      "outputs": []
    },
    {
      "cell_type": "markdown",
      "metadata": {
        "id": "0NmAiF2DV_ju"
      },
      "source": [
        "## Mini Projeto 02 - Calculadora de aumento de aluguel\n",
        "Vamos construir um programa que irá calcular o aumento anual do seu aluguel em duas partes:\n",
        "\n",
        "### Parte 1\n",
        "A sua calculadora vai receber o `valor do aluguel` e calcular o aumento baseado no `IGPM de 31%`. A calculadora deve apresentar o aluguel reajustado no formato `R$ XXXX.XX`\n",
        "\n",
        "**Exemplo:**\n",
        "```\n",
        "Valor do aluguel = 1000\n",
        "Valor do aluguel reajustado = R$ 1310,00\n",
        "```\n",
        "\n",
        "### Parte 2\n",
        "Agora, altere sua calculadora para receber além do `valor do aluguel`, o percentual do reajuste no formato `XX%`.  \n",
        "\n",
        "**Dica:** Descubra uma forma de transformar o percentual recebido em um número para efetuar o cálculo.\n",
        "\n",
        "**Exemplo:**\n",
        "```\n",
        "Valor do aluguel = 1000\n",
        "Percentual do reajuste = 31%\n",
        "Valor do aluguel reajustado = R% 1310,00\n",
        "```"
      ]
    },
    {
      "cell_type": "code",
      "metadata": {
        "id": "7O4XtdR-GrJb"
      },
      "source": [
        "# Parte 1\n",
        "a = float(input('Digite o valor do aluguel\\n'))\n",
        "igpm = 31\n",
        "p = a*igpm/100\n",
        "ar = a+p\n",
        "print('Valor do aluguel = R$ {:.2f}'.format(a))\n",
        "print('Percentual de reajuste = {:.2f}%'.format(igpm))\n",
        "print('Valor do aluguel reajustado = R$ {:.2f}'.format(ar))"
      ],
      "execution_count": null,
      "outputs": []
    },
    {
      "cell_type": "code",
      "metadata": {
        "id": "0eHzSCyaGkYJ"
      },
      "source": [
        "# Parte 2\n",
        "a = float(input('Digite o valor do aluguel\\n'))\n",
        "igpm = input('Digite o valor do percentual de reajuste\\n')\n",
        "igpm = float(igpm.replace(\"%\",\"\"))\n",
        "p = a*igpm/100\n",
        "ar = a+p\n",
        "print('Valor do aluguel = R$ {:.2f}'.format(a))\n",
        "print('Percentual de reajuste = {:.2f}%'.format(igpm))\n",
        "print('Valor do aluguel reajustado = R$ {:.2f}'.format(ar))"
      ],
      "execution_count": null,
      "outputs": []
    },
    {
      "cell_type": "markdown",
      "metadata": {
        "id": "xN88sUuMOG46"
      },
      "source": [
        "## Mini Projeto 03 - Calculadora de dano\n",
        "Vamos implementar a calculadora de dano de RPG!!\n",
        "\n",
        "### Parte 1\n",
        "O programa vai receber a `vida e um monstro (entre 10 e 50)` e o `valor do ataque do jogador por turno (entre 5 e 10)`\n",
        "\n",
        "Baseado nos valores, exiba a quantidade de turnos que o jogador irá demorar para conseguir derrotar o monstro.\n",
        "\n",
        "**Exemplo:**\n",
        "```\n",
        "Vida de um monstro (entre 10 e 50): 26\n",
        "Valor do ataque do jogador por turno (entre 5 e 10): 5\n",
        "Resultado: O jogador irá precisar de 6 turnos para derrotar o monstro.\n",
        "```\n",
        "\n",
        "### Parte 2\n",
        "Altere o programa para ao invés de receber a vida do monstro, gerar aleatoriamente um valor entre 10 e 50."
      ]
    },
    {
      "cell_type": "code",
      "metadata": {
        "id": "Hl-5lbipGzeU"
      },
      "source": [
        "# Parte 1\n",
        "vida = int(input(\"Digite a vida de um monstro entre 10 e 50 \"))\n",
        "if 10 <= vida <= 50:\n",
        "  dano = int(input('Digite o dano por turno (entre 5 e 10) '))\n",
        "  if 5 <= dano <= 10:\n",
        "    resto = vida % dano\n",
        "    vida = vida - resto\n",
        "    turno = vida // dano\n",
        "    if resto > 0:\n",
        "      turno = turno + 1\n",
        "print('Resultado: O jogador irá precisar de {} turnos para derrotar o monstro'.format(turno))"
      ],
      "execution_count": null,
      "outputs": []
    },
    {
      "cell_type": "code",
      "metadata": {
        "id": "Mrpz9UomQH2P"
      },
      "source": [
        "# Parte 2\n",
        "import random\n",
        "from random import randint\n",
        "vida = randint(10,50)\n",
        "dano = int(input('Digite o dano por turno (entre 5 e 10) '))\n",
        "if 5 <= dano <= 10:\n",
        "  resto = vida % dano\n",
        "  vida = vida - resto\n",
        "  turno = vida // dano\n",
        "  if resto > 0:\n",
        "    turno = turno + 1\n",
        "print('Resultado: O jogador irá precisar de {} turnos para derrotar o monstro'.format(turno))\n",
        "    "
      ],
      "execution_count": null,
      "outputs": []
    }
  ]
}