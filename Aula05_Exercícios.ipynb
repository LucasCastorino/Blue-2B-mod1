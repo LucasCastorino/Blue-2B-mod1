{
  "nbformat": 4,
  "nbformat_minor": 0,
  "metadata": {
    "colab": {
      "name": "Aula05_Exercícios.ipynb",
      "provenance": [],
      "collapsed_sections": [],
      "authorship_tag": "ABX9TyOoj00KCbf6zpYu+glWwCch",
      "include_colab_link": true
    },
    "kernelspec": {
      "name": "python3",
      "display_name": "Python 3"
    },
    "language_info": {
      "name": "python"
    }
  },
  "cells": [
    {
      "cell_type": "markdown",
      "metadata": {
        "id": "view-in-github",
        "colab_type": "text"
      },
      "source": [
        "<a href=\"https://colab.research.google.com/github/LucasCastorino/Blue-2B-mod1/blob/main/Aula05_Exerc%C3%ADcios.ipynb\" target=\"_parent\"><img src=\"https://colab.research.google.com/assets/colab-badge.svg\" alt=\"Open In Colab\"/></a>"
      ]
    },
    {
      "cell_type": "markdown",
      "metadata": {
        "id": "0t-HdbhwaJ5h"
      },
      "source": [
        "Exercício 1: \"Faça um Programa que leia três números inteiros, em seguida mostre o maior e o menor deles.\""
      ]
    },
    {
      "cell_type": "code",
      "metadata": {
        "id": "KM4PeAZIaFif"
      },
      "source": [
        "# Lendo os 3 números\n",
        "a = int(input(\"Digite o primeiro numero inteiro \"))\n",
        "b = int(input(\"Digite o segundo numero inteiro \"))\n",
        "c = int(input(\"Digite o terceito numero inteiro \"))\n",
        "\n",
        "# Encontrando o maior número\n",
        "maior = a\n",
        "if (b > maior):\n",
        "  maior = b\n",
        "if (c > maior):\n",
        "  maior = c\n",
        "print('Maior:',maior)\n",
        "\n",
        "# Encontrando o menor número\n",
        "menor = a\n",
        "if (b < menor):\n",
        "  menor = b\n",
        "if (c < menor):\n",
        "  menor = c\n",
        "print(\"Menor:\",menor)"
      ],
      "execution_count": null,
      "outputs": []
    },
    {
      "cell_type": "markdown",
      "metadata": {
        "id": "DvZJdkMDaO0y"
      },
      "source": [
        "Exercício 2 - Faça um programa que peça dois números e imprima o maior deles."
      ]
    },
    {
      "cell_type": "code",
      "metadata": {
        "id": "fKYyfGckaPKg"
      },
      "source": [
        "# Lendo os 2 números\n",
        "a = float(input(\"Digite o primeiro número: \"))\n",
        "b = float(input(\"Digite o segundo número: \"))\n",
        "while a == b:\n",
        "  print(\"Digite números diferentes\")\n",
        "  a = float(input(\"Digite o primeiro número: \"))\n",
        "  b = float(input(\"Digite o segundo número: \")) \n",
        "#Encontrando o maior número \n",
        "if a > b:\n",
        "  print(\"O maior número é: {}\".format(a))\n",
        "else:\n",
        "  print(\"O maior número é: {}\".format(b))"
      ],
      "execution_count": null,
      "outputs": []
    },
    {
      "cell_type": "markdown",
      "metadata": {
        "id": "gRabYsjKaPYx"
      },
      "source": [
        "Exercício 3 - Faça um script que peça um valor e mostre na tela se o valor é positivo ou negativo."
      ]
    },
    {
      "cell_type": "code",
      "metadata": {
        "id": "mKNDK5ptaPl0"
      },
      "source": [
        "# Lendo o valor e identificando\n",
        "print(\"Verificar se o valor inserido é positivo ou negativo.\")\n",
        "a = float(input(\"Insira o valor \"))\n",
        "while a == 0:\n",
        "  a = float(input(\"Insira um valor diferente de 0 \"))\n",
        "if a > 0:\n",
        "  print(\"O valor inserido é positivo!\")\n",
        "if a < 0:\n",
        "  print(\"O valor inserido é negativo!\")"
      ],
      "execution_count": null,
      "outputs": []
    },
    {
      "cell_type": "markdown",
      "metadata": {
        "id": "9jqjXICkaRYf"
      },
      "source": [
        "Exercício 4 - Crie um programa que verifique se uma letra digitada é \"F\" ou \"M\".\n",
        "\n",
        " Conforme a letra escrever: F - Feminino, M - Masculino, Sexo Inválido."
      ]
    },
    {
      "cell_type": "code",
      "metadata": {
        "id": "-MPD4a6saRhf"
      },
      "source": [
        "#Verificando a letra digitada\n",
        "a = input(\"Digite M para masculino e F para feminino: \")\n",
        "if a.upper() == \"M\":\n",
        "  print(\"M - Masculino\")\n",
        "elif a.upper() == \"F\":\n",
        "    print(\"F - Feminino\")\n",
        "else:\n",
        "  print(\"Sexo Inválido\")"
      ],
      "execution_count": null,
      "outputs": []
    },
    {
      "cell_type": "markdown",
      "metadata": {
        "id": "wLpC1UvvaRvQ"
      },
      "source": [
        "Exercício 5 - Crie um programa em Python que peça a nota do aluno, que deve ser um float entre 0.00 e 10.0\n",
        "\n",
        "•\tSe a nota for menor que 6.0, deve exibir a nota F.\n",
        "\n",
        "•\tSe a nota for de 6.0 até 7.0, deve exibir a nota D.\n",
        "\n",
        "•\tSe a nota for entre 7.0 e 8.0, deve exibir a nota C.\n",
        "\n",
        "•\tSe a nota for entre 8.0 e 9.0, deve exibir a nota B.\n",
        "\n",
        "•\tPor fim, se for entre 9.0 e 10.0, deve exibir um belo de um A.\n"
      ]
    },
    {
      "cell_type": "code",
      "metadata": {
        "id": "sEuWzUUnabiO"
      },
      "source": [
        "nota = float(input(\"Digite a nota do aluno[0-10]: \"))\n",
        "while (nota<0) or (nota>10):\n",
        "  print(\"Valor da nota fora dos limites\")\n",
        "  nota = float(input(\"Digite a nota do aluno[0-10]\"))\n",
        "if nota < 6:\n",
        "  print(\"Nota F\")\n",
        "elif nota < 7:\n",
        "  print(\"Nota D\")  \n",
        "elif nota < 8:\n",
        "  print(\"Nota C\") \n",
        "elif nota < 9:\n",
        "  print(\"Nota B\")\n",
        "else:\n",
        "  print(\"Um belo de um A!\") "
      ],
      "execution_count": null,
      "outputs": []
    },
    {
      "cell_type": "markdown",
      "metadata": {
        "id": "ss0KMtPGabVV"
      },
      "source": [
        "Exercício 6 - Faça um Programa que verifique se uma letra digitada é vogal ou consoante."
      ]
    },
    {
      "cell_type": "code",
      "metadata": {
        "id": "NTC7wkgynTn6"
      },
      "source": [
        "letra = input(\"Insira uma única letra: \")\n",
        "if letra.upper() == \"A\" or letra.upper() == \"E\" or letra.upper() == \"I\" or letra.upper() == \"O\" or letra.upper() == \"U\":\n",
        "    print(\"Vogal\")\n",
        "elif (letra.upper() == \"B\" or letra.upper() == \"C\" or letra.upper() == \"D\" or letra.upper() == \"F\" or letra.upper() == \"G\" \n",
        "      or letra.upper() == \"H\" or letra.upper() == \"J\" or letra.upper() == \"K\" or letra.upper() == \"L\" or letra.upper() == \"M\" \n",
        "      or letra.upper() == \"N\" or letra.upper() == \"P\" or letra.upper() == \"Q\" or letra.upper() == \"R\" or letra.upper() == \"S\" \n",
        "      or letra.upper() == \"T\" or letra.upper() == \"V\" or letra.upper() == \"W\" or letra.upper() == \"X\" or letra.upper() == \"Y\" \n",
        "      or letra.upper() == \"Z\"):\n",
        "    print(\"Consoante\")\n",
        "else:\n",
        "  print(\"Não é uma letra ou uma única letra\")"
      ],
      "execution_count": null,
      "outputs": []
    },
    {
      "cell_type": "markdown",
      "metadata": {
        "id": "rivsHdR1lGf1"
      },
      "source": [
        "PROJETO 1\n",
        "Resultado da primeira/segunda aula em Python:\n",
        "\n",
        "•\tEscreva um programa que receba uma string digitada pelo usuário;\n",
        "\n",
        "•\tCaso a string seja \"medieval\", exiba no console \"espada\";\n",
        "\n",
        "•\tCaso contrário, se a string for \"futurista\", exiba no console \"sabre de luz\";\n",
        "\n",
        "•\tCaso contrário, exiba no console \"Tente novamente\"\n"
      ]
    },
    {
      "cell_type": "code",
      "metadata": {
        "id": "PU8sk_HHlNwz"
      },
      "source": [
        "a = input(\"Selecione 'Medieval' ou 'Futurista' para iniciar: \")\n",
        "if a.upper() == \"MEDIEVAL\":\n",
        "  print(\"Espada\")\n",
        "elif a.upper() ==\"FUTURISTA\":\n",
        "  print(\"Sabre de Luz\")\n",
        "else:\n",
        "  print(\"Tente novamente\")"
      ],
      "execution_count": null,
      "outputs": []
    },
    {
      "cell_type": "markdown",
      "metadata": {
        "id": "Zlt72WoFlOLH"
      },
      "source": [
        "Continuação do PROJETO 1\n",
        "\n",
        "•\tEscreva um programa que receba um ataque de espada ou sabre digitada pelo usuário;\n",
        "\n",
        "•\tCaso o ataque seja \"espada\", exiba no console \"VOCÊ AINDA NÃO MATOU O CHEFÃO\";\n",
        "\n",
        "•\tCaso contrário, se o ataque for \"sabre\", exiba no console \"VOCÊ DERROTOU O CHEFÃO COM O SABRE DE LUZ\";\n",
        "\n",
        "•\tCaso contrário, exiba no console \"ATAQUE NOVAMENTE\"\n",
        "\n"
      ]
    },
    {
      "cell_type": "code",
      "metadata": {
        "id": "Gmd3OyCClU1X"
      },
      "source": [
        "a = input(\"Selecione 'Espada' ou 'Sabre' para atacar! \")\n",
        "if a.upper() == \"ESPADA\":\n",
        "  print(\"VOCÊ AINDA NÃO MATOU O CHEFÃO\")\n",
        "elif a.upper() ==\"SABRE\":\n",
        "  print(\"VOCÊ DERROTOU O CHEFÃO COM O SABRE DE LUZ\")\n",
        "else:\n",
        "  print(\"ATAQUE NOVAMENTE\")"
      ],
      "execution_count": null,
      "outputs": []
    },
    {
      "cell_type": "markdown",
      "metadata": {
        "id": "yaRJl8WAlYId"
      },
      "source": [
        "DESAFIO - As empresas @.com resolveram dar um aumento de salário aos seus colaboradores e lhe contrataram para desenvolver o programa que calculará os reajustes.\n",
        "\n",
        "Faça um programa que recebe o salário de um colaborador e o reajuste segundo o seguinte critério, baseado no salário atual:\n",
        "\n",
        "•\tsalários até R$ 280,00 (incluindo) : aumento de 20%\n",
        "\n",
        "•\tsalários entre R$ 280,00 e R$ 700,00 : aumento de 15%\n",
        "\n",
        "•\tsalários entre R$ 700,00 e R$ 1500,00 : aumento de 10%\n",
        "\n",
        "•\tsalários de R$ 1500,00 em diante : aumento de 5%\n",
        "\n",
        "Após o aumento ser realizado, informe na tela:\n",
        "\n",
        "•\to salário antes do reajuste;\n",
        "\n",
        "•\to percentual de aumento aplicado;\n",
        "\n",
        "•\to valor do aumento;\n",
        "\n",
        "•\to novo salário, após o aumento.\"\n"
      ]
    },
    {
      "cell_type": "code",
      "metadata": {
        "id": "_ky1I8rRli1x"
      },
      "source": [
        "print(\"Calculadora de aumento de salário\")\n",
        "salario = float(input(\"Digite o valor do salário:\\n\"))\n",
        "while salario <= 0:\n",
        "  print(\"Valor inserido deve ser maior que 0\")\n",
        "  salario = float(input(\"Digite novamente o valor do salário:\\n\"))\n",
        "if salario <= 280:\n",
        "  percentual = 20\n",
        "  aumento = salario*percentual/100\n",
        "  reajuste = salario + aumento\n",
        "elif salario <= 700:\n",
        "  percentual = 15\n",
        "  aumento = salario*percentual/100\n",
        "  reajuste = salario + aumento\n",
        "elif salario <= 1500:\n",
        "  percentual = 10\n",
        "  aumento = salario*percentual/100\n",
        "  reajuste = salario + aumento\n",
        "else:\n",
        "  percentual = 5\n",
        "  aumento = salario*percentual/100\n",
        "  reajuste = salario + aumento\n",
        "print(\"Salário antes do reajuste: R${:.2f}\\nPercentual de aumento: {:.2f}%\\nValor do aumento: R${:.2f}\\nNovo salário após aumento: R${:.2f}\".format(salario,percentual,aumento,reajuste))"
      ],
      "execution_count": null,
      "outputs": []
    },
    {
      "cell_type": "markdown",
      "metadata": {
        "id": "gbtuVnd7lld1"
      },
      "source": [
        "DESAFIO\n",
        "\n",
        "Faça um Programa para um caixa eletrônico. O programa deverá perguntar ao usuário a valor do saque e depois informar quantas notas de cada valor serão fornecidas. As notas disponíveis serão as de 1, 5, 10, 50 e 100 reais. O valor mínimo é de 10 reais e o máximo de 600 reais. O programa não deve se preocupar com a quantidade de notas existentes na máquina.\n",
        "\n",
        "•\tExemplo 1: Para sacar a quantia de 256 reais, o programa fornece duas notas de 100, uma nota de 50, uma nota de 5 e uma nota de 1;\n",
        "\n",
        "•\tExemplo 2: Para sacar a quantia de 399 reais, o programa fornece três notas de 100, uma nota de 50, quatro notas de 10, uma nota de 5 e quatro notas de 1.\n"
      ]
    },
    {
      "cell_type": "code",
      "metadata": {
        "id": "dzvm8hWxlrC_"
      },
      "source": [
        "print(\"Valor mínimo do saque: R$10,00.\")\n",
        "print(\"Valor máximo do saque: R$600,00\")\n",
        "numero = int(input(\"Valor do saque: R$\"))\n",
        "\n",
        "while(numero<10) or (numero>600):\n",
        "  print(\"Valor fora dos limites.\")\n",
        "  numero = int(input(\"Digite novamente o valor de saque: R$\"))\n",
        "\n",
        "cem = numero // 100\n",
        "numero = numero % 100\n",
        "    \n",
        "cinquenta = numero // 50\n",
        "numero = numero % 50\n",
        "\n",
        "dez = numero // 10\n",
        "numero = numero % 10\n",
        "\n",
        "cinco = numero // 5 \n",
        "numero = numero % 5\n",
        "\n",
        "um = numero\n",
        "    \n",
        "print('Notas R$100,00 = ',cem)\n",
        "print('Notas R$ 50,00 = ',cinquenta)\n",
        "print('Notas R$ 10,00 = ',dez)\n",
        "print('Notas R$  5,00 = ',cinco)\n",
        "print('Notas R$  1,00 = ',um)"
      ],
      "execution_count": null,
      "outputs": []
    }
  ]
}